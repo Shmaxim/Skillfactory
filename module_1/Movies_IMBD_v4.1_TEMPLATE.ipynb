{
 "cells": [
  {
   "cell_type": "code",
   "execution_count": 420,
   "metadata": {
    "_cell_guid": "b1076dfc-b9ad-4769-8c92-a6c4dae69d19",
    "_uuid": "8f2839f25d086af736a60e9eeb907d3b93b6e0e5",
    "colab": {},
    "colab_type": "code",
    "id": "U2D2gTdJVp90"
   },
   "outputs": [],
   "source": [
    "from itertools import combinations\n",
    "import numpy as np\n",
    "import pandas as pd\n",
    "import seaborn as sns\n",
    "import matplotlib.pyplot as plt\n",
    "from collections import Counter"
   ]
  },
  {
   "cell_type": "code",
   "execution_count": 64,
   "metadata": {
    "_cell_guid": "79c7e3d0-c299-4dcb-8224-4455121ee9b0",
    "_uuid": "d629ff2d2480ee46fbb7e2d37f6b5fab8052498a",
    "colab": {},
    "colab_type": "code",
    "id": "oyGfxL3eVp9-"
   },
   "outputs": [
    {
     "data": {
      "text/html": [
       "<div>\n",
       "<style scoped>\n",
       "    .dataframe tbody tr th:only-of-type {\n",
       "        vertical-align: middle;\n",
       "    }\n",
       "\n",
       "    .dataframe tbody tr th {\n",
       "        vertical-align: top;\n",
       "    }\n",
       "\n",
       "    .dataframe thead th {\n",
       "        text-align: right;\n",
       "    }\n",
       "</style>\n",
       "<table border=\"1\" class=\"dataframe\">\n",
       "  <thead>\n",
       "    <tr style=\"text-align: right;\">\n",
       "      <th></th>\n",
       "      <th>imdb_id</th>\n",
       "      <th>budget</th>\n",
       "      <th>revenue</th>\n",
       "      <th>original_title</th>\n",
       "      <th>cast</th>\n",
       "      <th>director</th>\n",
       "      <th>tagline</th>\n",
       "      <th>overview</th>\n",
       "      <th>runtime</th>\n",
       "      <th>genres</th>\n",
       "      <th>production_companies</th>\n",
       "      <th>release_date</th>\n",
       "      <th>vote_average</th>\n",
       "      <th>release_year</th>\n",
       "    </tr>\n",
       "  </thead>\n",
       "  <tbody>\n",
       "    <tr>\n",
       "      <th>694</th>\n",
       "      <td>tt1031969</td>\n",
       "      <td>15000000</td>\n",
       "      <td>8762890</td>\n",
       "      <td>The Rocker</td>\n",
       "      <td>Rainn Wilson|Josh Gad|Christina Applegate|Emma...</td>\n",
       "      <td>Peter Cattaneo</td>\n",
       "      <td>Opportunity rocks.</td>\n",
       "      <td>Rob \"Fish\" Fishman is the drummer in '80s hair...</td>\n",
       "      <td>102</td>\n",
       "      <td>Comedy|Music</td>\n",
       "      <td>Fox Atomic</td>\n",
       "      <td>8/20/2008</td>\n",
       "      <td>5.4</td>\n",
       "      <td>2008</td>\n",
       "    </tr>\n",
       "    <tr>\n",
       "      <th>1739</th>\n",
       "      <td>tt0825232</td>\n",
       "      <td>45000000</td>\n",
       "      <td>175372502</td>\n",
       "      <td>The Bucket List</td>\n",
       "      <td>Jack Nicholson|Morgan Freeman|Sean Hayes|Bever...</td>\n",
       "      <td>Rob Reiner</td>\n",
       "      <td>When he closed his eyes, his heart was opened</td>\n",
       "      <td>Corporate billionaire Edward and working class...</td>\n",
       "      <td>97</td>\n",
       "      <td>Comedy|Drama|Adventure</td>\n",
       "      <td>Warner Bros.|Storyline Entertainment|Two Ton F...</td>\n",
       "      <td>12/25/2007</td>\n",
       "      <td>6.9</td>\n",
       "      <td>2007</td>\n",
       "    </tr>\n",
       "    <tr>\n",
       "      <th>1694</th>\n",
       "      <td>tt0389790</td>\n",
       "      <td>150000000</td>\n",
       "      <td>287594577</td>\n",
       "      <td>Bee Movie</td>\n",
       "      <td>Jerry Seinfeld|RenÃ©e Zellweger|Matthew Broder...</td>\n",
       "      <td>Steve Hickner|Simon J. Smith</td>\n",
       "      <td>Born to bee wild.</td>\n",
       "      <td>Barry B. Benson, a bee who has just graduated ...</td>\n",
       "      <td>91</td>\n",
       "      <td>Family|Animation|Adventure|Comedy</td>\n",
       "      <td>Pacific Data Images (PDI)|DreamWorks Animation...</td>\n",
       "      <td>10/28/2007</td>\n",
       "      <td>5.6</td>\n",
       "      <td>2007</td>\n",
       "    </tr>\n",
       "    <tr>\n",
       "      <th>114</th>\n",
       "      <td>tt1178665</td>\n",
       "      <td>8000000</td>\n",
       "      <td>35991087</td>\n",
       "      <td>A Walk in the Woods</td>\n",
       "      <td>Robert Redford|Nick Nolte|Emma Thompson|Nick O...</td>\n",
       "      <td>Ken Kwapis</td>\n",
       "      <td>When you push yourself to the edge, the real f...</td>\n",
       "      <td>After spending two decades in England, Bill Br...</td>\n",
       "      <td>104</td>\n",
       "      <td>Drama|Adventure|Comedy</td>\n",
       "      <td>Wildwood Enterprises|Route One Films</td>\n",
       "      <td>9/2/2015</td>\n",
       "      <td>5.4</td>\n",
       "      <td>2015</td>\n",
       "    </tr>\n",
       "    <tr>\n",
       "      <th>1004</th>\n",
       "      <td>tt1397514</td>\n",
       "      <td>79000000</td>\n",
       "      <td>355692760</td>\n",
       "      <td>Journey 2: The Mysterious Island</td>\n",
       "      <td>Dwayne Johnson|Josh Hutcherson|Kristin Davis|V...</td>\n",
       "      <td>Brad Peyton</td>\n",
       "      <td>Believe the Impossible. Discover the Incredible.</td>\n",
       "      <td>Sean Anderson partners with his mom's boyfrien...</td>\n",
       "      <td>94</td>\n",
       "      <td>Adventure|Action|Science Fiction</td>\n",
       "      <td>New Line Cinema|Contrafilm|Walden Media</td>\n",
       "      <td>1/19/2012</td>\n",
       "      <td>5.8</td>\n",
       "      <td>2012</td>\n",
       "    </tr>\n",
       "  </tbody>\n",
       "</table>\n",
       "</div>"
      ],
      "text/plain": [
       "        imdb_id     budget    revenue                    original_title  \\\n",
       "694   tt1031969   15000000    8762890                        The Rocker   \n",
       "1739  tt0825232   45000000  175372502                   The Bucket List   \n",
       "1694  tt0389790  150000000  287594577                         Bee Movie   \n",
       "114   tt1178665    8000000   35991087               A Walk in the Woods   \n",
       "1004  tt1397514   79000000  355692760  Journey 2: The Mysterious Island   \n",
       "\n",
       "                                                   cast  \\\n",
       "694   Rainn Wilson|Josh Gad|Christina Applegate|Emma...   \n",
       "1739  Jack Nicholson|Morgan Freeman|Sean Hayes|Bever...   \n",
       "1694  Jerry Seinfeld|RenÃ©e Zellweger|Matthew Broder...   \n",
       "114   Robert Redford|Nick Nolte|Emma Thompson|Nick O...   \n",
       "1004  Dwayne Johnson|Josh Hutcherson|Kristin Davis|V...   \n",
       "\n",
       "                          director  \\\n",
       "694                 Peter Cattaneo   \n",
       "1739                    Rob Reiner   \n",
       "1694  Steve Hickner|Simon J. Smith   \n",
       "114                     Ken Kwapis   \n",
       "1004                   Brad Peyton   \n",
       "\n",
       "                                                tagline  \\\n",
       "694                                  Opportunity rocks.   \n",
       "1739      When he closed his eyes, his heart was opened   \n",
       "1694                                  Born to bee wild.   \n",
       "114   When you push yourself to the edge, the real f...   \n",
       "1004   Believe the Impossible. Discover the Incredible.   \n",
       "\n",
       "                                               overview  runtime  \\\n",
       "694   Rob \"Fish\" Fishman is the drummer in '80s hair...      102   \n",
       "1739  Corporate billionaire Edward and working class...       97   \n",
       "1694  Barry B. Benson, a bee who has just graduated ...       91   \n",
       "114   After spending two decades in England, Bill Br...      104   \n",
       "1004  Sean Anderson partners with his mom's boyfrien...       94   \n",
       "\n",
       "                                 genres  \\\n",
       "694                        Comedy|Music   \n",
       "1739             Comedy|Drama|Adventure   \n",
       "1694  Family|Animation|Adventure|Comedy   \n",
       "114              Drama|Adventure|Comedy   \n",
       "1004   Adventure|Action|Science Fiction   \n",
       "\n",
       "                                   production_companies release_date  \\\n",
       "694                                          Fox Atomic    8/20/2008   \n",
       "1739  Warner Bros.|Storyline Entertainment|Two Ton F...   12/25/2007   \n",
       "1694  Pacific Data Images (PDI)|DreamWorks Animation...   10/28/2007   \n",
       "114                Wildwood Enterprises|Route One Films     9/2/2015   \n",
       "1004            New Line Cinema|Contrafilm|Walden Media    1/19/2012   \n",
       "\n",
       "      vote_average  release_year  \n",
       "694            5.4          2008  \n",
       "1739           6.9          2007  \n",
       "1694           5.6          2007  \n",
       "114            5.4          2015  \n",
       "1004           5.8          2012  "
      ]
     },
     "execution_count": 64,
     "metadata": {},
     "output_type": "execute_result"
    }
   ],
   "source": [
    "data = pd.read_csv('movie_bd_v5.csv')\n",
    "data.sample(5)"
   ]
  },
  {
   "cell_type": "code",
   "execution_count": 54,
   "metadata": {
    "colab": {},
    "colab_type": "code",
    "id": "CoYUnagMVp-C"
   },
   "outputs": [
    {
     "data": {
      "text/html": [
       "<div>\n",
       "<style scoped>\n",
       "    .dataframe tbody tr th:only-of-type {\n",
       "        vertical-align: middle;\n",
       "    }\n",
       "\n",
       "    .dataframe tbody tr th {\n",
       "        vertical-align: top;\n",
       "    }\n",
       "\n",
       "    .dataframe thead th {\n",
       "        text-align: right;\n",
       "    }\n",
       "</style>\n",
       "<table border=\"1\" class=\"dataframe\">\n",
       "  <thead>\n",
       "    <tr style=\"text-align: right;\">\n",
       "      <th></th>\n",
       "      <th>budget</th>\n",
       "      <th>revenue</th>\n",
       "      <th>runtime</th>\n",
       "      <th>vote_average</th>\n",
       "      <th>release_year</th>\n",
       "    </tr>\n",
       "  </thead>\n",
       "  <tbody>\n",
       "    <tr>\n",
       "      <th>count</th>\n",
       "      <td>1.889000e+03</td>\n",
       "      <td>1.889000e+03</td>\n",
       "      <td>1889.000000</td>\n",
       "      <td>1889.000000</td>\n",
       "      <td>1889.000000</td>\n",
       "    </tr>\n",
       "    <tr>\n",
       "      <th>mean</th>\n",
       "      <td>5.431083e+07</td>\n",
       "      <td>1.553653e+08</td>\n",
       "      <td>109.658549</td>\n",
       "      <td>6.140762</td>\n",
       "      <td>2007.860773</td>\n",
       "    </tr>\n",
       "    <tr>\n",
       "      <th>std</th>\n",
       "      <td>4.858721e+07</td>\n",
       "      <td>2.146698e+08</td>\n",
       "      <td>18.017041</td>\n",
       "      <td>0.764763</td>\n",
       "      <td>4.468841</td>\n",
       "    </tr>\n",
       "    <tr>\n",
       "      <th>min</th>\n",
       "      <td>5.000000e+06</td>\n",
       "      <td>2.033165e+06</td>\n",
       "      <td>63.000000</td>\n",
       "      <td>3.300000</td>\n",
       "      <td>2000.000000</td>\n",
       "    </tr>\n",
       "    <tr>\n",
       "      <th>25%</th>\n",
       "      <td>2.000000e+07</td>\n",
       "      <td>3.456058e+07</td>\n",
       "      <td>97.000000</td>\n",
       "      <td>5.600000</td>\n",
       "      <td>2004.000000</td>\n",
       "    </tr>\n",
       "    <tr>\n",
       "      <th>50%</th>\n",
       "      <td>3.800000e+07</td>\n",
       "      <td>8.361541e+07</td>\n",
       "      <td>107.000000</td>\n",
       "      <td>6.100000</td>\n",
       "      <td>2008.000000</td>\n",
       "    </tr>\n",
       "    <tr>\n",
       "      <th>75%</th>\n",
       "      <td>7.200000e+07</td>\n",
       "      <td>1.782626e+08</td>\n",
       "      <td>120.000000</td>\n",
       "      <td>6.600000</td>\n",
       "      <td>2012.000000</td>\n",
       "    </tr>\n",
       "    <tr>\n",
       "      <th>max</th>\n",
       "      <td>3.800000e+08</td>\n",
       "      <td>2.781506e+09</td>\n",
       "      <td>214.000000</td>\n",
       "      <td>8.100000</td>\n",
       "      <td>2015.000000</td>\n",
       "    </tr>\n",
       "  </tbody>\n",
       "</table>\n",
       "</div>"
      ],
      "text/plain": [
       "             budget       revenue      runtime  vote_average  release_year\n",
       "count  1.889000e+03  1.889000e+03  1889.000000   1889.000000   1889.000000\n",
       "mean   5.431083e+07  1.553653e+08   109.658549      6.140762   2007.860773\n",
       "std    4.858721e+07  2.146698e+08    18.017041      0.764763      4.468841\n",
       "min    5.000000e+06  2.033165e+06    63.000000      3.300000   2000.000000\n",
       "25%    2.000000e+07  3.456058e+07    97.000000      5.600000   2004.000000\n",
       "50%    3.800000e+07  8.361541e+07   107.000000      6.100000   2008.000000\n",
       "75%    7.200000e+07  1.782626e+08   120.000000      6.600000   2012.000000\n",
       "max    3.800000e+08  2.781506e+09   214.000000      8.100000   2015.000000"
      ]
     },
     "execution_count": 54,
     "metadata": {},
     "output_type": "execute_result"
    }
   ],
   "source": [
    "data.describe()"
   ]
  },
  {
   "cell_type": "markdown",
   "metadata": {
    "colab_type": "text",
    "id": "DTIt7ezGVp-G"
   },
   "source": [
    "# Предобработка"
   ]
  },
  {
   "cell_type": "code",
   "execution_count": 436,
   "metadata": {
    "colab": {},
    "colab_type": "code",
    "id": "jNb40DwKVp-H"
   },
   "outputs": [
    {
     "data": {
      "text/html": [
       "<div>\n",
       "<style scoped>\n",
       "    .dataframe tbody tr th:only-of-type {\n",
       "        vertical-align: middle;\n",
       "    }\n",
       "\n",
       "    .dataframe tbody tr th {\n",
       "        vertical-align: top;\n",
       "    }\n",
       "\n",
       "    .dataframe thead th {\n",
       "        text-align: right;\n",
       "    }\n",
       "</style>\n",
       "<table border=\"1\" class=\"dataframe\">\n",
       "  <thead>\n",
       "    <tr style=\"text-align: right;\">\n",
       "      <th></th>\n",
       "      <th>imdb_id</th>\n",
       "      <th>budget</th>\n",
       "      <th>revenue</th>\n",
       "      <th>original_title</th>\n",
       "      <th>cast</th>\n",
       "      <th>director</th>\n",
       "      <th>tagline</th>\n",
       "      <th>overview</th>\n",
       "      <th>runtime</th>\n",
       "      <th>genres</th>\n",
       "      <th>production_companies</th>\n",
       "      <th>release_date</th>\n",
       "      <th>vote_average</th>\n",
       "      <th>release_year</th>\n",
       "      <th>profit</th>\n",
       "    </tr>\n",
       "  </thead>\n",
       "  <tbody>\n",
       "    <tr>\n",
       "      <th>0</th>\n",
       "      <td>tt0369610</td>\n",
       "      <td>150000000</td>\n",
       "      <td>1513528810</td>\n",
       "      <td>Jurassic World</td>\n",
       "      <td>Chris Pratt|Bryce Dallas Howard|Irrfan Khan|Vi...</td>\n",
       "      <td>Colin Trevorrow</td>\n",
       "      <td>The park is open.</td>\n",
       "      <td>Twenty-two years after the events of Jurassic ...</td>\n",
       "      <td>124</td>\n",
       "      <td>Action|Adventure|Science Fiction|Thriller</td>\n",
       "      <td>Universal Studios|Amblin Entertainment|Legenda...</td>\n",
       "      <td>6/9/2015</td>\n",
       "      <td>6.5</td>\n",
       "      <td>2015</td>\n",
       "      <td>1363528810</td>\n",
       "    </tr>\n",
       "    <tr>\n",
       "      <th>1</th>\n",
       "      <td>tt1392190</td>\n",
       "      <td>150000000</td>\n",
       "      <td>378436354</td>\n",
       "      <td>Mad Max: Fury Road</td>\n",
       "      <td>Tom Hardy|Charlize Theron|Hugh Keays-Byrne|Nic...</td>\n",
       "      <td>George Miller</td>\n",
       "      <td>What a Lovely Day.</td>\n",
       "      <td>An apocalyptic story set in the furthest reach...</td>\n",
       "      <td>120</td>\n",
       "      <td>Action|Adventure|Science Fiction|Thriller</td>\n",
       "      <td>Village Roadshow Pictures|Kennedy Miller Produ...</td>\n",
       "      <td>5/13/2015</td>\n",
       "      <td>7.1</td>\n",
       "      <td>2015</td>\n",
       "      <td>228436354</td>\n",
       "    </tr>\n",
       "  </tbody>\n",
       "</table>\n",
       "</div>"
      ],
      "text/plain": [
       "     imdb_id     budget     revenue      original_title  \\\n",
       "0  tt0369610  150000000  1513528810      Jurassic World   \n",
       "1  tt1392190  150000000   378436354  Mad Max: Fury Road   \n",
       "\n",
       "                                                cast         director  \\\n",
       "0  Chris Pratt|Bryce Dallas Howard|Irrfan Khan|Vi...  Colin Trevorrow   \n",
       "1  Tom Hardy|Charlize Theron|Hugh Keays-Byrne|Nic...    George Miller   \n",
       "\n",
       "              tagline                                           overview  \\\n",
       "0   The park is open.  Twenty-two years after the events of Jurassic ...   \n",
       "1  What a Lovely Day.  An apocalyptic story set in the furthest reach...   \n",
       "\n",
       "   runtime                                     genres  \\\n",
       "0      124  Action|Adventure|Science Fiction|Thriller   \n",
       "1      120  Action|Adventure|Science Fiction|Thriller   \n",
       "\n",
       "                                production_companies release_date  \\\n",
       "0  Universal Studios|Amblin Entertainment|Legenda...     6/9/2015   \n",
       "1  Village Roadshow Pictures|Kennedy Miller Produ...    5/13/2015   \n",
       "\n",
       "   vote_average  release_year      profit  \n",
       "0           6.5          2015  1363528810  \n",
       "1           7.1          2015   228436354  "
      ]
     },
     "execution_count": 436,
     "metadata": {},
     "output_type": "execute_result"
    }
   ],
   "source": [
    "answers = {} # создадим словарь для ответов\n",
    "\n",
    "# тут другие ваши предобработки колонок например:\n",
    "\n",
    "#create new DataFrame with a column 'profit'\n",
    "data_with_profit = data.copy(deep=True)\n",
    "\n",
    "data_with_profit['profit'] = data_with_profit['revenue'] - data_with_profit['budget']\n",
    "data_with_profit.head(2)\n"
   ]
  },
  {
   "cell_type": "code",
   "execution_count": null,
   "metadata": {},
   "outputs": [],
   "source": []
  },
  {
   "cell_type": "markdown",
   "metadata": {
    "colab_type": "text",
    "id": "YxZaH-nPVp-L"
   },
   "source": [
    "# 1. У какого фильма из списка самый большой бюджет?"
   ]
  },
  {
   "cell_type": "markdown",
   "metadata": {
    "colab_type": "text",
    "id": "Nd-G5gX6Vp-M"
   },
   "source": [
    "Использовать варианты ответов в коде решения запрещено.    \n",
    "Вы думаете и в жизни у вас будут варианты ответов?)"
   ]
  },
  {
   "cell_type": "code",
   "execution_count": 438,
   "metadata": {
    "colab": {},
    "colab_type": "code",
    "id": "uVnXAY5RVp-O"
   },
   "outputs": [],
   "source": [
    "# в словарь вставляем номер вопроса и ваш ответ на него\n",
    "# Пример: \n",
    "\n",
    "# запишите свой вариант ответа\n",
    "answers['1'] = 'Pirates of the Caribbean: On Stranger Tides ( tt1298650 )'\n",
    "# если ответили верно, можете добавить комментарий со значком \"+\""
   ]
  },
  {
   "cell_type": "code",
   "execution_count": 19,
   "metadata": {
    "colab": {},
    "colab_type": "code",
    "id": "dZwb3m28Vp-S"
   },
   "outputs": [
    {
     "name": "stdout",
     "output_type": "stream",
     "text": [
      "Pirates of the Caribbean: On Stranger Tides ( tt1298650 )\n"
     ]
    }
   ],
   "source": [
    "# тут пишем ваш код для решения данного вопроса:\n",
    "df = data.loc[data['budget'].idxmax()]\n",
    "print(df['original_title'], '(', df['imdb_id'], ')')"
   ]
  },
  {
   "cell_type": "markdown",
   "metadata": {
    "colab_type": "text",
    "id": "K7L3nbRXVp-X"
   },
   "source": [
    "ВАРИАНТ 2"
   ]
  },
  {
   "cell_type": "code",
   "execution_count": 0,
   "metadata": {
    "colab": {},
    "colab_type": "code",
    "id": "OGaoQI7rVp-X"
   },
   "outputs": [],
   "source": [
    "# можно добавлять разные варианты решения"
   ]
  },
  {
   "cell_type": "markdown",
   "metadata": {
    "colab_type": "text",
    "id": "FNRbbI3vVp-c"
   },
   "source": [
    "# 2. Какой из фильмов самый длительный (в минутах)?"
   ]
  },
  {
   "cell_type": "code",
   "execution_count": 440,
   "metadata": {
    "colab": {},
    "colab_type": "code",
    "id": "vHAoEXNTVp-d"
   },
   "outputs": [],
   "source": [
    "# думаю логику работы с этим словарем вы уже поняли, \n",
    "# по этому не буду больше его дублировать\n",
    "answers['2'] = 'Gods and Generals ( tt0279111 )'"
   ]
  },
  {
   "cell_type": "code",
   "execution_count": 21,
   "metadata": {
    "colab": {},
    "colab_type": "code",
    "id": "ot-VX2XrVp-g"
   },
   "outputs": [
    {
     "name": "stdout",
     "output_type": "stream",
     "text": [
      "Gods and Generals ( tt0279111 )\n"
     ]
    }
   ],
   "source": [
    "df = data.loc[data['runtime'].idxmax()]\n",
    "print(df['original_title'], '(', df['imdb_id'], ')')"
   ]
  },
  {
   "cell_type": "markdown",
   "metadata": {
    "colab_type": "text",
    "id": "bapLlpW8Vp-k"
   },
   "source": [
    "# 3. Какой из фильмов самый короткий (в минутах)?\n",
    "\n",
    "\n",
    "\n"
   ]
  },
  {
   "cell_type": "code",
   "execution_count": 441,
   "metadata": {
    "colab": {},
    "colab_type": "code",
    "id": "YBxaSHuAVp-l"
   },
   "outputs": [
    {
     "name": "stdout",
     "output_type": "stream",
     "text": [
      "Winnie the Pooh ( tt1449283 )\n"
     ]
    }
   ],
   "source": [
    "df = data.loc[data['runtime'].idxmin()]\n",
    "print(df['original_title'], '(', df['imdb_id'], ')')\n",
    "\n",
    "answers['3'] = 'Winnie the Pooh ( tt1449283 )'"
   ]
  },
  {
   "cell_type": "markdown",
   "metadata": {
    "colab_type": "text",
    "id": "TfQbxbfNVp-p"
   },
   "source": [
    "# 4. Какова средняя длительность фильмов?\n"
   ]
  },
  {
   "cell_type": "code",
   "execution_count": 442,
   "metadata": {
    "colab": {},
    "colab_type": "code",
    "id": "5K6dKZYVVp-q"
   },
   "outputs": [
    {
     "name": "stdout",
     "output_type": "stream",
     "text": [
      "109.6585494970884\n"
     ]
    }
   ],
   "source": [
    "print(data['runtime'].mean())\n",
    "\n",
    "answers['4'] = '110'"
   ]
  },
  {
   "cell_type": "markdown",
   "metadata": {
    "colab_type": "text",
    "id": "r5TvbnT_Vp-u"
   },
   "source": [
    "# 5. Каково медианное значение длительности фильмов? "
   ]
  },
  {
   "cell_type": "code",
   "execution_count": 443,
   "metadata": {
    "colab": {},
    "colab_type": "code",
    "id": "iBROplKnVp-v"
   },
   "outputs": [
    {
     "name": "stdout",
     "output_type": "stream",
     "text": [
      "107.0\n"
     ]
    }
   ],
   "source": [
    "print(data['runtime'].median())\n",
    "\n",
    "answers['5'] = '107'"
   ]
  },
  {
   "cell_type": "markdown",
   "metadata": {
    "colab_type": "text",
    "id": "39P-deDSVp-y"
   },
   "source": [
    "# 6. Какой самый прибыльный фильм?\n",
    "#### Внимание! Здесь и далее под «прибылью» или «убытками» понимается разность между сборами и бюджетом фильма. (прибыль = сборы - бюджет) в нашем датасете это будет (profit = revenue - budget) "
   ]
  },
  {
   "cell_type": "code",
   "execution_count": 444,
   "metadata": {
    "colab": {},
    "colab_type": "code",
    "id": "UYZh4T9WVp-y"
   },
   "outputs": [
    {
     "name": "stdout",
     "output_type": "stream",
     "text": [
      "Avatar ( tt0499549 )\n"
     ]
    }
   ],
   "source": [
    "# лучше код получения столбца profit вынести в Предобработку что в начале\n",
    "df = data_with_profit.loc[data_with_profit['profit'].idxmax()]\n",
    "print(df['original_title'], '(', df['imdb_id'], ')')\n",
    "\n",
    "answers['6'] = 'Avatar ( tt0499549 )'"
   ]
  },
  {
   "cell_type": "markdown",
   "metadata": {
    "colab_type": "text",
    "id": "M99JmIX4Vp-2"
   },
   "source": [
    "# 7. Какой фильм самый убыточный? "
   ]
  },
  {
   "cell_type": "code",
   "execution_count": 445,
   "metadata": {
    "colab": {},
    "colab_type": "code",
    "id": "w-D2m4XPVp-3"
   },
   "outputs": [
    {
     "name": "stdout",
     "output_type": "stream",
     "text": [
      "The Lone Ranger ( tt1210819 )\n"
     ]
    }
   ],
   "source": [
    "df = data_with_profit.loc[data_with_profit['profit'].idxmin()]\n",
    "print(df['original_title'], '(', df['imdb_id'], ')')\n",
    "\n",
    "answers['7'] = 'The Lone Ranger ( tt1210819 )'"
   ]
  },
  {
   "cell_type": "markdown",
   "metadata": {
    "colab_type": "text",
    "id": "wEOM5ERVVp-6"
   },
   "source": [
    "# 8. У скольких фильмов из датасета объем сборов оказался выше бюджета?"
   ]
  },
  {
   "cell_type": "code",
   "execution_count": 446,
   "metadata": {
    "colab": {},
    "colab_type": "code",
    "id": "y00_7HD6Vp-7"
   },
   "outputs": [
    {
     "name": "stdout",
     "output_type": "stream",
     "text": [
      "1478\n"
     ]
    }
   ],
   "source": [
    "df = data_with_profit.query('revenue > budget')\n",
    "print(len(df))\n",
    "\n",
    "answers['8'] = '1478'"
   ]
  },
  {
   "cell_type": "markdown",
   "metadata": {
    "colab_type": "text",
    "id": "xhpspA9KVp_A"
   },
   "source": [
    "# 9. Какой фильм оказался самым кассовым в 2008 году?"
   ]
  },
  {
   "cell_type": "code",
   "execution_count": 447,
   "metadata": {
    "colab": {},
    "colab_type": "code",
    "id": "MoUyQr9RVp_B"
   },
   "outputs": [
    {
     "name": "stdout",
     "output_type": "stream",
     "text": [
      "The Dark Knight ( tt0468569 )\n"
     ]
    }
   ],
   "source": [
    "release_2008 = data_with_profit.query('release_year == 2008')\n",
    "df = release_2008.loc[release_2008['revenue'].idxmax()]\n",
    "print(df['original_title'], '(', df['imdb_id'], ')')\n",
    "\n",
    "answers['9'] = 'The Dark Knight ( tt0468569 )'"
   ]
  },
  {
   "cell_type": "markdown",
   "metadata": {
    "colab_type": "text",
    "id": "Zi4hDKidVp_F"
   },
   "source": [
    "# 10. Самый убыточный фильм за период с 2012 по 2014 г. (включительно)?\n"
   ]
  },
  {
   "cell_type": "code",
   "execution_count": 448,
   "metadata": {
    "colab": {},
    "colab_type": "code",
    "id": "XqyRmufJVp_F"
   },
   "outputs": [
    {
     "name": "stdout",
     "output_type": "stream",
     "text": [
      "The Lone Ranger ( tt1210819 )\n"
     ]
    }
   ],
   "source": [
    "release_2012_2014 = data_with_profit.query('release_year >= 2012 & release_year <=2014')\n",
    "df = release_2012_2014.loc[release_2012_2014['profit'].idxmin()]\n",
    "print(df['original_title'], '(', df['imdb_id'], ')')\n",
    "\n",
    "answers['10'] = 'The Lone Ranger ( tt1210819 )'"
   ]
  },
  {
   "cell_type": "markdown",
   "metadata": {
    "colab_type": "text",
    "id": "EA7Sa9dkVp_I"
   },
   "source": [
    "# 11. Какого жанра фильмов больше всего?"
   ]
  },
  {
   "cell_type": "code",
   "execution_count": 449,
   "metadata": {
    "colab": {},
    "colab_type": "code",
    "id": "zsJAwJ8QVp_J"
   },
   "outputs": [
    {
     "name": "stdout",
     "output_type": "stream",
     "text": [
      "Drama\n"
     ]
    }
   ],
   "source": [
    "# эту задачу тоже можно решать разными подходами, попробуй реализовать разные варианты\n",
    "# если будешь добавлять функцию - выноси ее в предобработку что в начале\n",
    "df = ''\n",
    "df = df.join('|')\n",
    "df = df.join(data['genres'])\n",
    "df = df.replace(' ', '|')\n",
    "df = df.split('|')\n",
    "df = dict(Counter(df))\n",
    "genres_array = pd.DataFrame([df])\n",
    "genres_array = genres_array.transpose()\n",
    "genres_max = genres_array[0].idxmax()\n",
    "print(genres_max)\n",
    "\n",
    "answers['11'] = 'Drama'"
   ]
  },
  {
   "cell_type": "markdown",
   "metadata": {
    "colab_type": "text",
    "id": "Ax6g2C8SVp_M"
   },
   "source": [
    "ВАРИАНТ 2"
   ]
  },
  {
   "cell_type": "code",
   "execution_count": null,
   "metadata": {
    "colab": {},
    "colab_type": "code",
    "id": "otO3SbrSVp_N"
   },
   "outputs": [],
   "source": []
  },
  {
   "cell_type": "markdown",
   "metadata": {
    "colab_type": "text",
    "id": "T9_bPWpkVp_Q"
   },
   "source": [
    "# 12. Фильмы какого жанра чаще всего становятся прибыльными? "
   ]
  },
  {
   "cell_type": "code",
   "execution_count": 450,
   "metadata": {
    "colab": {},
    "colab_type": "code",
    "id": "Tmt8MaK1Vp_R"
   },
   "outputs": [
    {
     "name": "stdout",
     "output_type": "stream",
     "text": [
      "Drama\n"
     ]
    }
   ],
   "source": [
    "profitable = data_with_profit.query('profit > 0')\n",
    "df = ''\n",
    "df = df.join('|')\n",
    "df = df.join(profitable['genres'])\n",
    "df = df.replace(' ', '|')\n",
    "df = df.split('|')\n",
    "df = dict(Counter(df))\n",
    "genres_array = pd.DataFrame([df])\n",
    "genres_array = genres_array.transpose()\n",
    "genres_max = genres_array[0].idxmax()\n",
    "print(genres_max)\n",
    "\n",
    "answers['12'] = 'Drama'"
   ]
  },
  {
   "cell_type": "markdown",
   "metadata": {
    "colab_type": "text",
    "id": "0F23bgsDVp_U"
   },
   "source": [
    "# 13. У какого режиссера самые большие суммарные кассовые сборы?"
   ]
  },
  {
   "cell_type": "code",
   "execution_count": 451,
   "metadata": {
    "colab": {},
    "colab_type": "code",
    "id": "K6Z3J8ygVp_X"
   },
   "outputs": [
    {
     "name": "stdout",
     "output_type": "stream",
     "text": [
      "Peter Jackson\n"
     ]
    }
   ],
   "source": [
    "directors = data.groupby(['director'])['revenue'].sum().sort_values()\n",
    "directors = pd.DataFrame([directors]).transpose()\n",
    "directors_max = directors['revenue'].idxmax()\n",
    "print(directors_max)\n",
    "\n",
    "answers['13'] = 'Peter Jackson'"
   ]
  },
  {
   "cell_type": "markdown",
   "metadata": {
    "colab_type": "text",
    "id": "PsYC9FgRVp_a"
   },
   "source": [
    "# 14. Какой режисер снял больше всего фильмов в стиле Action?"
   ]
  },
  {
   "cell_type": "code",
   "execution_count": 452,
   "metadata": {
    "colab": {},
    "colab_type": "code",
    "id": "wd2M-wHeVp_b"
   },
   "outputs": [
    {
     "name": "stdout",
     "output_type": "stream",
     "text": [
      "Robert Rodriguez\n"
     ]
    }
   ],
   "source": [
    "action = data[data.genres.str.contains(\"Action\")].copy()\n",
    "action['director'] = action.director.apply(lambda x:x.split('|'))\n",
    "director = action.explode('director')\n",
    "director_max = director['director'].value_counts()\n",
    "director_max = pd.DataFrame([director_max]).transpose()\n",
    "directors_name = director_max['director'].idxmax()\n",
    "print(directors_name)\n",
    "\n",
    "answers['14'] = 'Robert Rodriguez'"
   ]
  },
  {
   "cell_type": "markdown",
   "metadata": {
    "colab_type": "text",
    "id": "PQ0KciD7Vp_f"
   },
   "source": [
    "# 15. Фильмы с каким актером принесли самые высокие кассовые сборы в 2012 году? "
   ]
  },
  {
   "cell_type": "code",
   "execution_count": 453,
   "metadata": {
    "colab": {},
    "colab_type": "code",
    "id": "aga62oeKVp_g"
   },
   "outputs": [
    {
     "name": "stdout",
     "output_type": "stream",
     "text": [
      "Chris Hemsworth\n"
     ]
    }
   ],
   "source": [
    "actors = data.copy()\n",
    "actors['cast'] = actors.cast.apply(lambda x:x.split('|'))\n",
    "actors_split = actors.explode('cast')\n",
    "actors_2012 = actors_split.query('release_year == 2012')\n",
    "actors_revenue = actors_2012.groupby(['cast'])['revenue'].sum().sort_values(ascending = False)\n",
    "actors_revenue = pd.DataFrame([actors_revenue]).transpose()\n",
    "actor = actors_revenue['revenue'].idxmax()\n",
    "print(actor)\n",
    "\n",
    "answers['15'] = 'Chris Hemsworth'"
   ]
  },
  {
   "cell_type": "markdown",
   "metadata": {
    "colab_type": "text",
    "id": "mWHyyL7QVp_j"
   },
   "source": [
    "# 16. Какой актер снялся в большем количестве высокобюджетных фильмов?"
   ]
  },
  {
   "cell_type": "code",
   "execution_count": 454,
   "metadata": {
    "colab": {},
    "colab_type": "code",
    "id": "qQtmHKTFVp_k"
   },
   "outputs": [
    {
     "name": "stdout",
     "output_type": "stream",
     "text": [
      "Matt Damon\n"
     ]
    }
   ],
   "source": [
    "mean_budget = data['budget'].mean()\n",
    "data_high = data[data.budget > mean_budget]\n",
    "actors = data_high.copy()\n",
    "actors = pd.Series(actors.cast.str.split('|').sum()).value_counts()\n",
    "print(actors.index[0])\n",
    "\n",
    "answers['16'] = 'Matt Damon'"
   ]
  },
  {
   "cell_type": "markdown",
   "metadata": {
    "colab_type": "text",
    "id": "NIh6AaW5Vp_n"
   },
   "source": [
    "# 17. В фильмах какого жанра больше всего снимался Nicolas Cage? "
   ]
  },
  {
   "cell_type": "code",
   "execution_count": 455,
   "metadata": {
    "colab": {},
    "colab_type": "code",
    "id": "H74SJDIBVp_n"
   },
   "outputs": [
    {
     "name": "stdout",
     "output_type": "stream",
     "text": [
      "Action\n"
     ]
    }
   ],
   "source": [
    "actors = data.copy()\n",
    "x = actors[actors.cast.str.contains(\"Nicolas Cage\")].genres.str.split('|').explode().value_counts()\n",
    "\n",
    "print(x.index[0])\n",
    "\n",
    "answers['17'] = 'Action'"
   ]
  },
  {
   "cell_type": "markdown",
   "metadata": {
    "colab_type": "text",
    "id": "RqOmPRfWVp_q"
   },
   "source": [
    "# 18. Самый убыточный фильм от Paramount Pictures"
   ]
  },
  {
   "cell_type": "code",
   "execution_count": 456,
   "metadata": {
    "colab": {},
    "colab_type": "code",
    "id": "9E_B0Y96Vp_r"
   },
   "outputs": [
    {
     "name": "stdout",
     "output_type": "stream",
     "text": [
      "925    K-19: The Widowmaker\n",
      "Name: original_title, dtype: object\n"
     ]
    }
   ],
   "source": [
    "min_profit = data_with_profit.copy()\n",
    "Paramount = min_profit[min_profit['production_companies'].str.contains('Paramount Pictures')]\n",
    "film = Paramount[['profit', 'original_title', 'production_companies']].sort_values('profit')\n",
    "print(film['original_title'][:1])\n",
    "\n",
    "answers['18'] = 'K-19: The Widowmaker'"
   ]
  },
  {
   "cell_type": "markdown",
   "metadata": {
    "colab_type": "text",
    "id": "vS8Ur6ddVp_u"
   },
   "source": [
    "# 19. Какой год стал самым успешным по суммарным кассовым сборам?"
   ]
  },
  {
   "cell_type": "code",
   "execution_count": 457,
   "metadata": {
    "colab": {},
    "colab_type": "code",
    "id": "Dnbt4GdIVp_v"
   },
   "outputs": [
    {
     "name": "stdout",
     "output_type": "stream",
     "text": [
      "2015\n"
     ]
    }
   ],
   "source": [
    "summ = data.groupby(['release_year'])['revenue'].sum().sort_values(ascending=False)\n",
    "print(summ.index[0])\n",
    "\n",
    "answers['19'] = '2015'"
   ]
  },
  {
   "cell_type": "markdown",
   "metadata": {
    "colab_type": "text",
    "id": "JAzJh4QAVp_z"
   },
   "source": [
    "# 20. Какой самый прибыльный год для студии Warner Bros?"
   ]
  },
  {
   "cell_type": "code",
   "execution_count": 458,
   "metadata": {
    "colab": {},
    "colab_type": "code",
    "id": "wgVu02DEVp_0"
   },
   "outputs": [
    {
     "data": {
      "text/plain": [
       "2014"
      ]
     },
     "metadata": {},
     "output_type": "display_data"
    }
   ],
   "source": [
    "x = data_with_profit.copy()\n",
    "warner = x[x['production_companies'].str.contains('Warner Bros')]\n",
    "summ = pd.DataFrame([warner.groupby(['release_year'])['profit'].sum().sort_values(ascending=False)]).transpose()['profit'].idxmax()\n",
    "display(summ)\n",
    "\n",
    "answers['20'] = '2014'"
   ]
  },
  {
   "cell_type": "markdown",
   "metadata": {
    "colab_type": "text",
    "id": "8Im1S2HRVp_4"
   },
   "source": [
    "# 21. В каком месяце за все годы суммарно вышло больше всего фильмов?"
   ]
  },
  {
   "cell_type": "code",
   "execution_count": 459,
   "metadata": {
    "colab": {},
    "colab_type": "code",
    "id": "lev6TH7gVp_4"
   },
   "outputs": [
    {
     "data": {
      "text/plain": [
       "9"
      ]
     },
     "metadata": {},
     "output_type": "display_data"
    }
   ],
   "source": [
    "m = data.copy()\n",
    "m.release_date = pd.to_datetime(m.release_date)\n",
    "m.release_date.dt.month.value_counts()\n",
    "m['month'] = m.release_date.dt.month\n",
    "m['month'].value_counts()\n",
    "month_max = pd.DataFrame([m['month'].value_counts()]).transpose()['month'].idxmax()\n",
    "display(month_max)\n",
    "\n",
    "answers['21'] = 'сентябрь'"
   ]
  },
  {
   "cell_type": "markdown",
   "metadata": {
    "colab_type": "text",
    "id": "uAJsZ_NeVp_7"
   },
   "source": [
    "# 22. Сколько суммарно вышло фильмов летом? (за июнь, июль, август)"
   ]
  },
  {
   "cell_type": "code",
   "execution_count": 460,
   "metadata": {
    "colab": {},
    "colab_type": "code",
    "id": "Aa-hEREoVp_8"
   },
   "outputs": [
    {
     "name": "stdout",
     "output_type": "stream",
     "text": [
      "450\n"
     ]
    }
   ],
   "source": [
    "m = data.copy()\n",
    "m.release_date = pd.to_datetime(m.release_date)\n",
    "m['month'] = m.release_date.dt.month\n",
    "s = m.query('month >= 6 & month <= 8')\n",
    "print(len(s))\n",
    "\n",
    "answers['22'] = '450'"
   ]
  },
  {
   "cell_type": "markdown",
   "metadata": {
    "colab_type": "text",
    "id": "G94ppOY1VqAA"
   },
   "source": [
    "# 23. Для какого режиссера зима – самое продуктивное время года? "
   ]
  },
  {
   "cell_type": "code",
   "execution_count": 461,
   "metadata": {
    "colab": {},
    "colab_type": "code",
    "id": "RhNTsamuVqAB"
   },
   "outputs": [
    {
     "name": "stdout",
     "output_type": "stream",
     "text": [
      "Peter Jackson\n"
     ]
    }
   ],
   "source": [
    "m = data.copy()\n",
    "m.release_date = pd.to_datetime(m.release_date)\n",
    "m['month'] = m.release_date.dt.month\n",
    "w = m.query('month in [12, 1, 2]')\n",
    "director = pd.DataFrame([w.director.str.split('|').explode().value_counts()]).transpose()['director'].idxmax()\n",
    "print(director)\n",
    "\n",
    "answers['23'] = 'Peter Jackson'"
   ]
  },
  {
   "cell_type": "markdown",
   "metadata": {
    "colab_type": "text",
    "id": "RBo0JVjVVqAF"
   },
   "source": [
    "# 24. Какая студия дает самые длинные названия своим фильмам по количеству символов?"
   ]
  },
  {
   "cell_type": "code",
   "execution_count": 462,
   "metadata": {
    "colab": {},
    "colab_type": "code",
    "id": "QRGS8L0iVqAG"
   },
   "outputs": [
    {
     "name": "stdout",
     "output_type": "stream",
     "text": [
      "Four By Two Productions\n"
     ]
    }
   ],
   "source": [
    "l= data.copy()\n",
    "l['lenght'] = l['original_title'].apply(lambda x: len(x))\n",
    "l['production_companies'] = l.production_companies.str.split(\"|\")\n",
    "stud = l.explode('production_companies')\n",
    "answers['24'] = stud.groupby('production_companies').lenght.mean().sort_values(ascending=False).index[0]\n",
    "\n",
    "print(answers['24'])"
   ]
  },
  {
   "cell_type": "markdown",
   "metadata": {
    "colab_type": "text",
    "id": "9G0hbvR7VqAK"
   },
   "source": [
    "# 25. Описание фильмов какой студии в среднем самые длинные по количеству слов?"
   ]
  },
  {
   "cell_type": "code",
   "execution_count": 463,
   "metadata": {
    "colab": {},
    "colab_type": "code",
    "id": "Ge2GsLNxVqAK"
   },
   "outputs": [
    {
     "name": "stdout",
     "output_type": "stream",
     "text": [
      "Midnight Picture Show\n"
     ]
    }
   ],
   "source": [
    "l = data.copy()\n",
    "l['lenght'] = l['overview'].apply(lambda x: len(x.split(' ')))\n",
    "l['production_companies'] = l.production_companies.str.split(\"|\")\n",
    "stud = l.explode('production_companies')\n",
    "answers['25'] = stud.groupby('production_companies').lenght.mean().sort_values(ascending=False).index[0]\n",
    "\n",
    "print(answers['25'])"
   ]
  },
  {
   "cell_type": "markdown",
   "metadata": {
    "colab_type": "text",
    "id": "FJ1AFt90VqAP"
   },
   "source": [
    "# 26. Какие фильмы входят в 1 процент лучших по рейтингу? \n",
    "по vote_average"
   ]
  },
  {
   "cell_type": "code",
   "execution_count": 464,
   "metadata": {
    "colab": {},
    "colab_type": "code",
    "id": "8qmJVq4CVqAQ"
   },
   "outputs": [
    {
     "data": {
      "text/plain": [
       "599                                   The Dark Knight\n",
       "118                                      Interstellar\n",
       "125                                The Imitation Game\n",
       "9                                          Inside Out\n",
       "34                                               Room\n",
       "1183                          The Wolf of Wall Street\n",
       "128                                         Gone Girl\n",
       "1191                                 12 Years a Slave\n",
       "119                           Guardians of the Galaxy\n",
       "1081    The Lord of the Rings: The Return of the King\n",
       "1800                                          Memento\n",
       "370                                         Inception\n",
       "872                                       The Pianist\n",
       "138                          The Grand Budapest Hotel\n",
       "Name: original_title, dtype: object"
      ]
     },
     "metadata": {},
     "output_type": "display_data"
    }
   ],
   "source": [
    "x = data.copy()\n",
    "percent = x.sort_values('vote_average', ascending=False)\n",
    "display(percent[percent.vote_average > percent.vote_average.quantile(0.99)].original_title)\n",
    "\n",
    "answers['26'] = 'Inside Out, The Dark Knight, 12 Years a Slave'"
   ]
  },
  {
   "cell_type": "markdown",
   "metadata": {
    "colab_type": "text",
    "id": "MdXsUXbCVqAV"
   },
   "source": [
    "# 27. Какие актеры чаще всего снимаются в одном фильме вместе?\n"
   ]
  },
  {
   "cell_type": "markdown",
   "metadata": {
    "colab_type": "text",
    "id": "4ymnxEVoVqAW"
   },
   "source": [
    "ВАРИАНТ 2"
   ]
  },
  {
   "cell_type": "code",
   "execution_count": 465,
   "metadata": {},
   "outputs": [],
   "source": [
    "from itertools import combinations\n",
    "x = data.copy()\n",
    "x['cast'] = x['cast'].str.split('|')\n",
    "pair = x['cast'].reset_index()\n",
    "pair['pairs'] = pair['cast'].apply(lambda x: list(combinations(x, 2)))\n",
    "pair = pair.explode('pairs').reset_index()\n",
    "Counter(pair['pairs']).most_common(1)\n",
    "\n",
    "answers['27'] = 'Daniel Radcliffe & Rupert Grint '"
   ]
  },
  {
   "cell_type": "markdown",
   "metadata": {
    "colab_type": "text",
    "id": "U0nONFnGVqAX"
   },
   "source": [
    "# Submission"
   ]
  },
  {
   "cell_type": "code",
   "execution_count": 466,
   "metadata": {
    "colab": {},
    "colab_type": "code",
    "id": "IfcaRO9-VqAX",
    "outputId": "0f132912-32bb-4196-c98c-abfbc4ad5a5f"
   },
   "outputs": [
    {
     "data": {
      "text/plain": [
       "{'1': 'Pirates of the Caribbean: On Stranger Tides ( tt1298650 )',\n",
       " '2': 'Gods and Generals ( tt0279111 )',\n",
       " '3': 'Winnie the Pooh ( tt1449283 )',\n",
       " '4': '110',\n",
       " '5': '107',\n",
       " '6': 'Avatar ( tt0499549 )',\n",
       " '7': 'The Lone Ranger ( tt1210819 )',\n",
       " '8': '1478',\n",
       " '9': 'The Dark Knight ( tt0468569 )',\n",
       " '10': 'The Lone Ranger ( tt1210819 )',\n",
       " '11': 'Drama',\n",
       " '12': 'Drama',\n",
       " '13': 'Peter Jackson',\n",
       " '14': 'Robert Rodriguez',\n",
       " '15': 'Chris Hemsworth',\n",
       " '16': 'Matt Damon',\n",
       " '17': 'Action',\n",
       " '18': 'K-19: The Widowmaker',\n",
       " '19': '2015',\n",
       " '20': '2014',\n",
       " '21': 'сентябрь',\n",
       " '22': '450',\n",
       " '23': 'Peter Jackson',\n",
       " '24': 'Four By Two Productions',\n",
       " '25': 'Midnight Picture Show',\n",
       " '26': 'Inside Out, The Dark Knight, 12 Years a Slave',\n",
       " '27': 'Daniel Radcliffe & Rupert Grint '}"
      ]
     },
     "execution_count": 466,
     "metadata": {},
     "output_type": "execute_result"
    }
   ],
   "source": [
    "# в конце можно посмотреть свои ответы к каждому вопросу\n",
    "answers"
   ]
  },
  {
   "cell_type": "code",
   "execution_count": 467,
   "metadata": {
    "colab": {},
    "colab_type": "code",
    "id": "SiRmHPl8VqAd"
   },
   "outputs": [
    {
     "data": {
      "text/plain": [
       "27"
      ]
     },
     "execution_count": 467,
     "metadata": {},
     "output_type": "execute_result"
    }
   ],
   "source": [
    "# и убедиться что ни чего не пропустил)\n",
    "len(answers)"
   ]
  },
  {
   "cell_type": "code",
   "execution_count": 0,
   "metadata": {
    "colab": {},
    "colab_type": "code",
    "id": "uCfuTkRbVqAg"
   },
   "outputs": [],
   "source": []
  },
  {
   "cell_type": "code",
   "execution_count": 0,
   "metadata": {
    "colab": {},
    "colab_type": "code",
    "id": "Vwx3NrkSVqAl"
   },
   "outputs": [],
   "source": []
  }
 ],
 "metadata": {
  "colab": {
   "name": "Copy of [SF-DST] Movies IMBD v4.1 TEMPLATE.ipynb",
   "provenance": []
  },
  "kernelspec": {
   "display_name": "Python 3",
   "language": "python",
   "name": "python3"
  },
  "language_info": {
   "codemirror_mode": {
    "name": "ipython",
    "version": 3
   },
   "file_extension": ".py",
   "mimetype": "text/x-python",
   "name": "python",
   "nbconvert_exporter": "python",
   "pygments_lexer": "ipython3",
   "version": "3.8.5"
  }
 },
 "nbformat": 4,
 "nbformat_minor": 1
}
